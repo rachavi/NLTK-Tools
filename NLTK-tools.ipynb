{
 "cells": [
  {
   "cell_type": "code",
   "execution_count": 29,
   "metadata": {},
   "outputs": [],
   "source": [
    "# NLTK: NLP tools\n",
    "\n",
    "import nltk"
   ]
  },
  {
   "cell_type": "code",
   "execution_count": 30,
   "metadata": {},
   "outputs": [
    {
     "data": {
      "text/plain": [
       "['At',\n",
       " 'eight',\n",
       " \"o'clock\",\n",
       " 'on',\n",
       " 'Thursday',\n",
       " 'morning',\n",
       " 'Arthur',\n",
       " 'did',\n",
       " \"n't\",\n",
       " 'feel',\n",
       " 'very',\n",
       " 'good',\n",
       " '.']"
      ]
     },
     "execution_count": 30,
     "metadata": {},
     "output_type": "execute_result"
    }
   ],
   "source": [
    "# Tokenization and POS tagging\n",
    "\n",
    "sentence = \"At eight o'clock on Thursday morning Arthur didn't feel very good.\"\n",
    "tokens = nltk.word_tokenize(sentence)\n",
    "\n",
    "tokens"
   ]
  },
  {
   "cell_type": "code",
   "execution_count": 31,
   "metadata": {},
   "outputs": [
    {
     "data": {
      "text/plain": [
       "[('At', 'IN'),\n",
       " ('eight', 'CD'),\n",
       " (\"o'clock\", 'NN'),\n",
       " ('on', 'IN'),\n",
       " ('Thursday', 'NNP'),\n",
       " ('morning', 'NN'),\n",
       " ('Arthur', 'NNP'),\n",
       " ('did', 'VBD'),\n",
       " (\"n't\", 'RB'),\n",
       " ('feel', 'VB'),\n",
       " ('very', 'RB'),\n",
       " ('good', 'JJ'),\n",
       " ('.', '.')]"
      ]
     },
     "execution_count": 31,
     "metadata": {},
     "output_type": "execute_result"
    }
   ],
   "source": [
    "tagged = nltk.pos_tag(tokens)\n",
    "tagged[0:13]"
   ]
  },
  {
   "cell_type": "code",
   "execution_count": 32,
   "metadata": {},
   "outputs": [
    {
     "name": "stdout",
     "output_type": "stream",
     "text": [
      "Tree('S', [('At', 'IN'), ('eight', 'CD'), (\"o'clock\", 'NN'), ('on', 'IN'), ('Thursday', 'NNP'), ('morning', 'NN'), Tree('PERSON', [('Arthur', 'NNP')]), ('did', 'VBD'), (\"n't\", 'RB'), ('feel', 'VB'), ('very', 'RB'), ('good', 'JJ'), ('.', '.')])\n"
     ]
    },
    {
     "data": {
      "image/png": "[encoded data removed]",
      "text/plain": [
       "Tree('S', [('At', 'IN'), ('eight', 'CD'), (\"o'clock\", 'NN'), ('on', 'IN'), ('Thursday', 'NNP'), ('morning', 'NN'), Tree('PERSON', [('Arthur', 'NNP')]), ('did', 'VBD'), (\"n't\", 'RB'), ('feel', 'VB'), ('very', 'RB'), ('good', 'JJ'), ('.', '.')])"
      ]
     },
     "execution_count": 32,
     "metadata": {},
     "output_type": "execute_result"
    }
   ],
   "source": [
    "# Identify named entities:\n",
    "\n",
    "entities = nltk.chunk.ne_chunk(tagged)\n",
    "from pprint import pprint\n",
    "pprint(entities)\n",
    "entities"
   ]
  },
  {
   "cell_type": "code",
   "execution_count": 33,
   "metadata": {},
   "outputs": [],
   "source": [
    "# Display a parse tree:\n",
    "\n",
    "from nltk.corpus import treebank\n",
    "t = treebank.parsed_sents('wsj_0001.mrg')[0]\n",
    "t.draw()"
   ]
  },
  {
   "cell_type": "code",
   "execution_count": 6,
   "metadata": {},
   "outputs": [
    {
     "name": "stdout",
     "output_type": "stream",
     "text": [
      "caress fli die mule deni die agre own humbl size meet state siez item sensat tradit refer colon plot\n"
     ]
    }
   ],
   "source": [
    "from __future__ import print_function\n",
    "from nltk.stem import *\n",
    "\n",
    "from nltk.stem.porter import *\n",
    "# Create a new Porter stemmer.\n",
    "stemmer = PorterStemmer()\n",
    "\n",
    "plurals = ['caresses', 'flies', 'dies', 'mules', 'denied', 'died', 'agreed', 'owned', 'humbled', 'sized', 'meeting', 'stating', 'siezing', 'itemization', 'sensational', 'traditional', 'reference', 'colonizer', 'plotted']\n",
    "singles = [stemmer.stem(plural) for plural in plurals]\n",
    "print(' '.join(singles))  # doctest: +NORMALIZE_WHITESPACE"
   ]
  },
  {
   "cell_type": "code",
   "execution_count": 7,
   "metadata": {},
   "outputs": [
    {
     "data": {
      "text/plain": [
       "'car'"
      ]
     },
     "execution_count": 7,
     "metadata": {},
     "output_type": "execute_result"
    }
   ],
   "source": [
    "# Porter stemmer\n",
    "from nltk.stem.porter import *\n",
    "stemmer = PorterStemmer()\n",
    "stemmer.stem('cars')"
   ]
  },
  {
   "cell_type": "code",
   "execution_count": 8,
   "metadata": {},
   "outputs": [
    {
     "data": {
      "text/plain": [
       "\"porter'\""
      ]
     },
     "execution_count": 8,
     "metadata": {},
     "output_type": "execute_result"
    }
   ],
   "source": [
    "stemmer.stem(\"Porter's\")"
   ]
  },
  {
   "cell_type": "code",
   "execution_count": 9,
   "metadata": {},
   "outputs": [
    {
     "data": {
      "text/plain": [
       "'run'"
      ]
     },
     "execution_count": 9,
     "metadata": {},
     "output_type": "execute_result"
    }
   ],
   "source": [
    "from nltk.stem.snowball import SnowballStemmer\n",
    "stemmer = SnowballStemmer(\"english\")\n",
    "stemmer.stem(\"running\")"
   ]
  },
  {
   "cell_type": "code",
   "execution_count": 10,
   "metadata": {},
   "outputs": [
    {
     "data": {
      "text/plain": [
       "[Synset('happy.a.01'),\n",
       " Synset('felicitous.s.02'),\n",
       " Synset('glad.s.02'),\n",
       " Synset('happy.s.04')]"
      ]
     },
     "execution_count": 10,
     "metadata": {},
     "output_type": "execute_result"
    }
   ],
   "source": [
    "# WordNet\n",
    "import nltk\n",
    "from nltk.corpus import wordnet as wn\n",
    "wn.synsets('chihuahua')\n",
    "wn.synsets('happy')"
   ]
  },
  {
   "cell_type": "code",
   "execution_count": 11,
   "metadata": {},
   "outputs": [
    {
     "data": {
      "text/plain": [
       "[Synset('king_of_england.n.01'),\n",
       " Synset('king_of_france.n.01'),\n",
       " Synset('king_of_the_germans.n.01')]"
      ]
     },
     "execution_count": 11,
     "metadata": {},
     "output_type": "execute_result"
    }
   ],
   "source": [
    "# WordNet\n",
    "from pprint import pprint\n",
    "from nltk.corpus import wordnet as wn\n",
    "#panda = wn.synset('panda.n.01')\n",
    "king = wn.synset('king.n.01')\n",
    "hyper = lambda s: s.hypernyms()\n",
    "hypo = lambda s: s.hyponyms()\n",
    "list(king.closure(hyper))\n",
    "list(king.closure(hypo))\n",
    "\n",
    "#pprint(wn.synsets('king'))\n",
    "#pprint(wn.synsets('panda'))\n",
    "#pprint(wn.synsets('good'))"
   ]
  },
  {
   "cell_type": "code",
   "execution_count": 12,
   "metadata": {},
   "outputs": [
    {
     "data": {
      "text/plain": [
       "[]"
      ]
     },
     "execution_count": 12,
     "metadata": {},
     "output_type": "execute_result"
    }
   ],
   "source": [
    "# WordNet\n",
    "from pprint import pprint\n",
    "from nltk.corpus import wordnet as wn\n",
    "#panda = wn.synset('panda.n.01')\n",
    "emperor = wn.synset('empress.n.01')\n",
    "hyper = lambda s: s.hyponyms()\n",
    "list(emperor.closure(hyper))\n",
    "\n",
    "#pprint(wn.synsets('king'))\n",
    "#pprint(wn.synsets('panda'))\n",
    "#pprint(wn.synsets('good'))"
   ]
  },
  {
   "cell_type": "code",
   "execution_count": 13,
   "metadata": {},
   "outputs": [
    {
     "name": "stdout",
     "output_type": "stream",
     "text": [
      "('a city in northern Mexico in the state of Chihuahua; commercial center of '\n",
      " 'northern Mexico')\n",
      "['for your own good', \"what's the good of worrying?\"]\n"
     ]
    }
   ],
   "source": [
    "#pprint(wn.synsets('good')[0].name())\n",
    "#pprint(wn.synsets('good')[0].lemmas()[0].name())\n",
    "pprint(wn.synsets('chihuahua')[0].definition())\n",
    "pprint(wn.synsets('good')[0].examples())"
   ]
  },
  {
   "cell_type": "code",
   "execution_count": 14,
   "metadata": {},
   "outputs": [
    {
     "name": "stdout",
     "output_type": "stream",
     "text": [
      "increase\n",
      "swim\n"
     ]
    }
   ],
   "source": [
    "# WordNet Lemmatizer\n",
    "\n",
    "from nltk.stem import WordNetLemmatizer\n",
    "lemmatizer = WordNetLemmatizer()\n",
    "print(lemmatizer.lemmatize('increases'))\n",
    "print(lemmatizer.lemmatize('swam',pos=\"v\"))"
   ]
  },
  {
   "cell_type": "code",
   "execution_count": 15,
   "metadata": {},
   "outputs": [
    {
     "name": "stdout",
     "output_type": "stream",
     "text": [
      "stone\n",
      "speak\n",
      "bedroom\n",
      "joke\n",
      "lisa\n",
      "purpl\n",
      "----------------------\n",
      "stone\n",
      "speaking\n",
      "bedroom\n",
      "joke\n",
      "lisa\n",
      "purple\n"
     ]
    }
   ],
   "source": [
    "# Different between Lemmatization and Stemmatization\n",
    "\n",
    "from nltk.stem import WordNetLemmatizer\n",
    "from nltk.stem import PorterStemmer\n",
    "\n",
    "stemmer = PorterStemmer()\n",
    "lemmatizer = WordNetLemmatizer()\n",
    "\n",
    "print(stemmer.stem('stones'))\n",
    "print(stemmer.stem('speaking'))\n",
    "print(stemmer.stem('bedroom'))\n",
    "print(stemmer.stem('jokes'))\n",
    "print(stemmer.stem('lisa'))\n",
    "print(stemmer.stem('purple'))\n",
    "print('----------------------')\n",
    "\n",
    "print(lemmatizer.lemmatize('stones'))\n",
    "print(lemmatizer.lemmatize('speaking'))\n",
    "print(lemmatizer.lemmatize('bedroom'))\n",
    "print(lemmatizer.lemmatize('jokes'))\n",
    "print(lemmatizer.lemmatize('lisa'))\n",
    "print(lemmatizer.lemmatize('purple'))"
   ]
  },
  {
   "cell_type": "code",
   "execution_count": 16,
   "metadata": {},
   "outputs": [
    {
     "data": {
      "text/plain": [
       "3"
      ]
     },
     "execution_count": 16,
     "metadata": {},
     "output_type": "execute_result"
    }
   ],
   "source": [
    "# Edit distance\n",
    "nltk.edit_distance(\"aa bbbb cc\", \"aa b cc\")\n",
    "nltk.edit_distance(\"able\", \"belt\")"
   ]
  },
  {
   "cell_type": "code",
   "execution_count": 17,
   "metadata": {},
   "outputs": [],
   "source": [
    "# Extract NE from multiple sentences from a file\n",
    "#geo = Geographical Entity\n",
    "#org = Organization\n",
    "#per = Person\n",
    "#gpe = Geopolitical Entity\n",
    "#tim = Time indicator\n",
    "#art = Artifact\n",
    "#eve = Event\n",
    "#nat = Natural Phenomenon\n",
    "\n",
    "import nltk\n",
    "from nltk.chunk import conlltags2tree, tree2conlltags\n",
    "\n",
    "with open('sample.txt', 'r') as f:\n",
    "    sample = f.read()"
   ]
  },
  {
   "cell_type": "code",
   "execution_count": 18,
   "metadata": {},
   "outputs": [
    {
     "data": {
      "text/plain": [
       "\"I am a man. There are three Trump's and one Hillary. On the mount Fuji, we can see a panoramic view.\\nHe lives in Paris for many years already. He also married with a Canadian.\\n\""
      ]
     },
     "execution_count": 18,
     "metadata": {},
     "output_type": "execute_result"
    }
   ],
   "source": [
    "sample"
   ]
  },
  {
   "cell_type": "code",
   "execution_count": 19,
   "metadata": {},
   "outputs": [],
   "source": [
    "sentences = nltk.sent_tokenize(sample)\n",
    "tokenized_sentences = [nltk.word_tokenize(sentence) for sentence in sentences]\n",
    "tagged_sentences = [nltk.pos_tag(sentence) for sentence in tokenized_sentences]\n",
    "chunked_sentences = nltk.ne_chunk_sents(tagged_sentences)\n",
    "#chunked_sentences = nltk.ne_chunk_sents(tagged_sentences, binary=True)"
   ]
  },
  {
   "cell_type": "code",
   "execution_count": 20,
   "metadata": {},
   "outputs": [
    {
     "data": {
      "text/plain": [
       "['I am a man.',\n",
       " \"There are three Trump's and one Hillary.\",\n",
       " 'On the mount Fuji, we can see a panoramic view.',\n",
       " 'He lives in Paris for many years already.',\n",
       " 'He also married with a Canadian.']"
      ]
     },
     "execution_count": 20,
     "metadata": {},
     "output_type": "execute_result"
    }
   ],
   "source": [
    "sentences"
   ]
  },
  {
   "cell_type": "code",
   "execution_count": 21,
   "metadata": {},
   "outputs": [
    {
     "data": {
      "text/plain": [
       "[['I', 'am', 'a', 'man', '.'],\n",
       " ['There', 'are', 'three', 'Trump', \"'s\", 'and', 'one', 'Hillary', '.'],\n",
       " ['On',\n",
       "  'the',\n",
       "  'mount',\n",
       "  'Fuji',\n",
       "  ',',\n",
       "  'we',\n",
       "  'can',\n",
       "  'see',\n",
       "  'a',\n",
       "  'panoramic',\n",
       "  'view',\n",
       "  '.'],\n",
       " ['He', 'lives', 'in', 'Paris', 'for', 'many', 'years', 'already', '.'],\n",
       " ['He', 'also', 'married', 'with', 'a', 'Canadian', '.']]"
      ]
     },
     "execution_count": 21,
     "metadata": {},
     "output_type": "execute_result"
    }
   ],
   "source": [
    "tokenized_sentences"
   ]
  },
  {
   "cell_type": "code",
   "execution_count": 22,
   "metadata": {},
   "outputs": [
    {
     "data": {
      "text/plain": [
       "[[('I', 'PRP'), ('am', 'VBP'), ('a', 'DT'), ('man', 'NN'), ('.', '.')],\n",
       " [('There', 'EX'),\n",
       "  ('are', 'VBP'),\n",
       "  ('three', 'CD'),\n",
       "  ('Trump', 'NNP'),\n",
       "  (\"'s\", 'POS'),\n",
       "  ('and', 'CC'),\n",
       "  ('one', 'CD'),\n",
       "  ('Hillary', 'NNP'),\n",
       "  ('.', '.')],\n",
       " [('On', 'IN'),\n",
       "  ('the', 'DT'),\n",
       "  ('mount', 'NN'),\n",
       "  ('Fuji', 'NNP'),\n",
       "  (',', ','),\n",
       "  ('we', 'PRP'),\n",
       "  ('can', 'MD'),\n",
       "  ('see', 'VB'),\n",
       "  ('a', 'DT'),\n",
       "  ('panoramic', 'JJ'),\n",
       "  ('view', 'NN'),\n",
       "  ('.', '.')],\n",
       " [('He', 'PRP'),\n",
       "  ('lives', 'VBZ'),\n",
       "  ('in', 'IN'),\n",
       "  ('Paris', 'NNP'),\n",
       "  ('for', 'IN'),\n",
       "  ('many', 'JJ'),\n",
       "  ('years', 'NNS'),\n",
       "  ('already', 'RB'),\n",
       "  ('.', '.')],\n",
       " [('He', 'PRP'),\n",
       "  ('also', 'RB'),\n",
       "  ('married', 'VBD'),\n",
       "  ('with', 'IN'),\n",
       "  ('a', 'DT'),\n",
       "  ('Canadian', 'NN'),\n",
       "  ('.', '.')]]"
      ]
     },
     "execution_count": 22,
     "metadata": {},
     "output_type": "execute_result"
    }
   ],
   "source": [
    "tagged_sentences"
   ]
  },
  {
   "cell_type": "code",
   "execution_count": 23,
   "metadata": {},
   "outputs": [],
   "source": [
    "iob_tagged = [tree2conlltags(chunked) for chunked in chunked_sentences]"
   ]
  },
  {
   "cell_type": "code",
   "execution_count": 24,
   "metadata": {},
   "outputs": [
    {
     "data": {
      "text/plain": [
       "[[('I', 'PRP', 'O'),\n",
       "  ('am', 'VBP', 'O'),\n",
       "  ('a', 'DT', 'O'),\n",
       "  ('man', 'NN', 'O'),\n",
       "  ('.', '.', 'O')],\n",
       " [('There', 'EX', 'O'),\n",
       "  ('are', 'VBP', 'O'),\n",
       "  ('three', 'CD', 'O'),\n",
       "  ('Trump', 'NNP', 'B-PERSON'),\n",
       "  (\"'s\", 'POS', 'O'),\n",
       "  ('and', 'CC', 'O'),\n",
       "  ('one', 'CD', 'O'),\n",
       "  ('Hillary', 'NNP', 'O'),\n",
       "  ('.', '.', 'O')],\n",
       " [('On', 'IN', 'O'),\n",
       "  ('the', 'DT', 'O'),\n",
       "  ('mount', 'NN', 'O'),\n",
       "  ('Fuji', 'NNP', 'B-PERSON'),\n",
       "  (',', ',', 'O'),\n",
       "  ('we', 'PRP', 'O'),\n",
       "  ('can', 'MD', 'O'),\n",
       "  ('see', 'VB', 'O'),\n",
       "  ('a', 'DT', 'O'),\n",
       "  ('panoramic', 'JJ', 'O'),\n",
       "  ('view', 'NN', 'O'),\n",
       "  ('.', '.', 'O')],\n",
       " [('He', 'PRP', 'O'),\n",
       "  ('lives', 'VBZ', 'O'),\n",
       "  ('in', 'IN', 'O'),\n",
       "  ('Paris', 'NNP', 'B-GPE'),\n",
       "  ('for', 'IN', 'O'),\n",
       "  ('many', 'JJ', 'O'),\n",
       "  ('years', 'NNS', 'O'),\n",
       "  ('already', 'RB', 'O'),\n",
       "  ('.', '.', 'O')],\n",
       " [('He', 'PRP', 'O'),\n",
       "  ('also', 'RB', 'O'),\n",
       "  ('married', 'VBD', 'O'),\n",
       "  ('with', 'IN', 'O'),\n",
       "  ('a', 'DT', 'O'),\n",
       "  ('Canadian', 'NN', 'B-GPE'),\n",
       "  ('.', '.', 'O')]]"
      ]
     },
     "execution_count": 24,
     "metadata": {},
     "output_type": "execute_result"
    }
   ],
   "source": [
    "iob_tagged"
   ]
  },
  {
   "cell_type": "code",
   "execution_count": 25,
   "metadata": {},
   "outputs": [],
   "source": [
    "# Extract NE from a sentence\n",
    "\n",
    "from nltk.chunk import conlltags2tree, tree2conlltags\n",
    "\n",
    "sentence = \"Mark and John are working at Google.\"\n",
    "tokens = nltk.word_tokenize(sentence)\n",
    "tagged = nltk.pos_tag(tokens)\n",
    "\n",
    "#chunked = nltk.chunk.ne_chunk(tagged, binary=True)\n",
    "chunked = nltk.chunk.ne_chunk(tagged)\n",
    "\n",
    "#sentences = nltk.sent_tokenize(sample)\n",
    "#tokenized_sentences = [nltk.word_tokenize(sentence) for sentence in sentences]\n",
    "#tagged_sentences = [nltk.pos_tag(sentence) for sentence in tokenized_sentences]\n",
    "#chunked_sentences = nltk.chunk.ne_chunk(tagged_sentences, binary=True)\n",
    "\n",
    "iob_tagged = tree2conlltags(chunked)\n",
    "#print (iob_tagged)"
   ]
  },
  {
   "cell_type": "code",
   "execution_count": 26,
   "metadata": {},
   "outputs": [
    {
     "data": {
      "text/plain": [
       "[('Mark', 'NNP'),\n",
       " ('and', 'CC'),\n",
       " ('John', 'NNP'),\n",
       " ('are', 'VBP'),\n",
       " ('working', 'VBG'),\n",
       " ('at', 'IN'),\n",
       " ('Google', 'NNP'),\n",
       " ('.', '.')]"
      ]
     },
     "execution_count": 26,
     "metadata": {},
     "output_type": "execute_result"
    }
   ],
   "source": [
    "tagged"
   ]
  },
  {
   "cell_type": "code",
   "execution_count": 27,
   "metadata": {},
   "outputs": [
    {
     "data": {
      "text/plain": [
       "[('Mark', 'NNP', 'B-PERSON'),\n",
       " ('and', 'CC', 'O'),\n",
       " ('John', 'NNP', 'B-PERSON'),\n",
       " ('are', 'VBP', 'O'),\n",
       " ('working', 'VBG', 'O'),\n",
       " ('at', 'IN', 'O'),\n",
       " ('Google', 'NNP', 'B-ORGANIZATION'),\n",
       " ('.', '.', 'O')]"
      ]
     },
     "execution_count": 27,
     "metadata": {},
     "output_type": "execute_result"
    }
   ],
   "source": [
    "iob_tagged"
   ]
  },
  {
   "cell_type": "code",
   "execution_count": 28,
   "metadata": {},
   "outputs": [
    {
     "name": "stdout",
     "output_type": "stream",
     "text": [
      "(S\n",
      "  (PERSON Mark/NNP)\n",
      "  and/CC\n",
      "  (PERSON John/NNP)\n",
      "  are/VBP\n",
      "  working/VBG\n",
      "  at/IN\n",
      "  (ORGANIZATION Google/NNP)\n",
      "  ./.)\n"
     ]
    }
   ],
   "source": [
    "ne_tree = conlltags2tree(iob_tagged)\n",
    "print (ne_tree)"
   ]
  },
  {
   "cell_type": "code",
   "execution_count": null,
   "metadata": {},
   "outputs": [],
   "source": []
  }
 ],
 "metadata": {
  "kernelspec": {
   "display_name": "Python [conda env:BERT-P3]",
   "language": "python",
   "name": "conda-env-BERT-P3-py"
  },
  "language_info": {
   "codemirror_mode": {
    "name": "ipython",
    "version": 3
   },
   "file_extension": ".py",
   "mimetype": "text/x-python",
   "name": "python",
   "nbconvert_exporter": "python",
   "pygments_lexer": "ipython3",
   "version": "3.6.2"
  }
 },
 "nbformat": 4,
 "nbformat_minor": 2
}
